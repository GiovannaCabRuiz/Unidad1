{
  "nbformat": 4,
  "nbformat_minor": 0,
  "metadata": {
    "colab": {
      "provenance": [],
      "authorship_tag": "ABX9TyN23OWtRTmkbYM2dPOgg/8b",
      "include_colab_link": true
    },
    "kernelspec": {
      "name": "python3",
      "display_name": "Python 3"
    },
    "language_info": {
      "name": "python"
    }
  },
  "cells": [
    {
      "cell_type": "markdown",
      "metadata": {
        "id": "view-in-github",
        "colab_type": "text"
      },
      "source": [
        "<a href=\"https://colab.research.google.com/github/GiovannaCabRuiz/Unidad1/blob/main/practicaSeisA.ipynb\" target=\"_parent\"><img src=\"https://colab.research.google.com/assets/colab-badge.svg\" alt=\"Open In Colab\"/></a>"
      ]
    },
    {
      "cell_type": "code",
      "execution_count": null,
      "metadata": {
        "colab": {
          "base_uri": "https://localhost:8080/"
        },
        "id": "O5SHm4bmwvUw",
        "outputId": "2b2e4ffa-b94d-468d-d696-093a11455a09"
      },
      "outputs": [
        {
          "output_type": "stream",
          "name": "stdout",
          "text": [
            "Ingrese nombre: gio\n",
            "Ingrese c1: 100\n",
            "Ingrese c2: 40\n",
            "Ingrese c3: 80\n",
            "gio  con calificaciones:  100.0  ,  40.0  ,  80.0  su promedio es:  73.33333333333333  esta:  aprobado\n"
          ]
        }
      ],
      "source": [
        "class Promedios():\n",
        "  def __init__(self):\n",
        "    self.c1 = 0\n",
        "    self.c2 = 0\n",
        "    self.c3 = 0\n",
        "    self.n = \"\"\n",
        "\n",
        "  def prom(self):\n",
        "    r = (self.c1+self.c2+self.c3)/3\n",
        "    return r\n",
        "\n",
        "  def comparacion(self, num):\n",
        "    if num >= 70:\n",
        "      rs = \"aprobado\"\n",
        "    else:\n",
        "      rs = \"reprobado\"\n",
        "    return rs\n",
        "\n",
        "cal = Promedios()\n",
        "cal.n = input(\"Ingrese nombre: \")\n",
        "cal.c1 = float(input(\"Ingrese c1: \"))\n",
        "cal.c2 = float(input(\"Ingrese c2: \"))\n",
        "cal.c3 = float(input(\"Ingrese c3: \"))\n",
        "#cal.comparacion(cal.prom())\n",
        "p = cal.prom()\n",
        "c = cal.comparacion(p)\n",
        "print (cal.n,\" con calificaciones: \",cal.c1,\" , \",cal.c2,\" , \",cal.c3,\" su promedio es: \",p, \" esta: \",c)\n",
        "\n",
        "\n",
        "\n",
        "#si el alumno tiene una unidad reprobada, el alumno reprueba\n",
        "\n"
      ]
    }
  ]
}