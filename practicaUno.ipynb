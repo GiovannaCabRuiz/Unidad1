{
  "nbformat": 4,
  "nbformat_minor": 0,
  "metadata": {
    "colab": {
      "provenance": [],
      "authorship_tag": "ABX9TyNgn/DQGUNB9s8WG7fGh+sx",
      "include_colab_link": true
    },
    "kernelspec": {
      "name": "python3",
      "display_name": "Python 3"
    },
    "language_info": {
      "name": "python"
    }
  },
  "cells": [
    {
      "cell_type": "markdown",
      "metadata": {
        "id": "view-in-github",
        "colab_type": "text"
      },
      "source": [
        "<a href=\"https://colab.research.google.com/github/GiovannaCabRuiz/Unidad1/blob/main/practicaUno.ipynb\" target=\"_parent\"><img src=\"https://colab.research.google.com/assets/colab-badge.svg\" alt=\"Open In Colab\"/></a>"
      ]
    },
    {
      "cell_type": "markdown",
      "source": [
        "Imprime saludo"
      ],
      "metadata": {
        "id": "osw-TFRDmbae"
      }
    },
    {
      "cell_type": "code",
      "execution_count": null,
      "metadata": {
        "colab": {
          "base_uri": "https://localhost:8080/"
        },
        "id": "KRp7AghSmPsy",
        "outputId": "49f8312b-5e9e-450c-fbd6-a9172bae4939"
      },
      "outputs": [
        {
          "output_type": "stream",
          "name": "stdout",
          "text": [
            "Hola Mundo\n"
          ]
        }
      ],
      "source": [
        "print (\"Hola Mundo\")"
      ]
    },
    {
      "cell_type": "markdown",
      "source": [
        "Inicia la clase saludo"
      ],
      "metadata": {
        "id": "JR9BizoZoT45"
      }
    },
    {
      "cell_type": "code",
      "source": [
        "class saludo:\n",
        "  print (\"Hola mundo\")\n",
        "\n",
        "s = saludo()\n"
      ],
      "metadata": {
        "colab": {
          "base_uri": "https://localhost:8080/"
        },
        "id": "c1rjf0rfnRgW",
        "outputId": "61d2f0d6-7c70-47fe-b87e-f0c4152dde67"
      },
      "execution_count": null,
      "outputs": [
        {
          "output_type": "stream",
          "name": "stdout",
          "text": [
            "Hola mundo\n"
          ]
        }
      ]
    },
    {
      "cell_type": "code",
      "source": [
        "\n"
      ],
      "metadata": {
        "id": "gC13ZfsPoX7Z"
      },
      "execution_count": null,
      "outputs": []
    }
  ]
}