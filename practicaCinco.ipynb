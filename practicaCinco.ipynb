{
  "nbformat": 4,
  "nbformat_minor": 0,
  "metadata": {
    "colab": {
      "provenance": [],
      "authorship_tag": "ABX9TyOubeLLlbZK7Uz2UCVqDlZx",
      "include_colab_link": true
    },
    "kernelspec": {
      "name": "python3",
      "display_name": "Python 3"
    },
    "language_info": {
      "name": "python"
    }
  },
  "cells": [
    {
      "cell_type": "markdown",
      "metadata": {
        "id": "view-in-github",
        "colab_type": "text"
      },
      "source": [
        "<a href=\"https://colab.research.google.com/github/GiovannaCabRuiz/Unidad1/blob/main/practicaCinco.ipynb\" target=\"_parent\"><img src=\"https://colab.research.google.com/assets/colab-badge.svg\" alt=\"Open In Colab\"/></a>"
      ]
    },
    {
      "cell_type": "code",
      "execution_count": 1,
      "metadata": {
        "colab": {
          "base_uri": "https://localhost:8080/"
        },
        "id": "SEUc7x4uI01l",
        "outputId": "45f3ba7e-06a0-4ac9-f162-695f1684fa2c"
      },
      "outputs": [
        {
          "output_type": "stream",
          "name": "stdout",
          "text": [
            "ingrese la base para el rectangulo: 23.5\n",
            "ingrese la altura para el rectangulo: 54.6\n",
            "ingrese la base para el triangulo: 213.7\n",
            "ingrese la altura para el triangulo: 342.5\n",
            "Área del rectángulo: 1283.1000000000001\n",
            "Área del triángulo: 36596.125\n"
          ]
        }
      ],
      "source": [
        "class Poligono:\n",
        "  \"\"\"\n",
        "  Define un polígono según su base y su altura.\n",
        "  \"\"\"\n",
        "  def __init__(self, b, h):\n",
        "    self.b = b\n",
        "    self.h = h\n",
        "class Rectangulo(Poligono):\n",
        "  def area(self):\n",
        "    return self.b * self.h\n",
        "class Triangulo(Poligono):\n",
        "  def area(self):\n",
        "    return (self.b * self.h) / 2\n",
        "ba = float(input(\"ingrese la base para el rectangulo: \"))\n",
        "ha = float(input(\"ingrese la altura para el rectangulo: \"))\n",
        "rectangulo = Rectangulo(ba, ha)\n",
        "ba = float(input(\"ingrese la base para el triangulo: \"))\n",
        "ha = float(input(\"ingrese la altura para el triangulo: \"))\n",
        "triangulo = Triangulo(ba, ha)\n",
        "print(\"Área del rectángulo:\", rectangulo.area())\n",
        "print(\"Área del triángulo:\", triangulo.area())\n",
        "\n",
        "\n",
        "\n"
      ]
    }
  ]
}