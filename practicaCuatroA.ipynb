{
  "nbformat": 4,
  "nbformat_minor": 0,
  "metadata": {
    "colab": {
      "provenance": [],
      "authorship_tag": "ABX9TyOB4kJ425ZKYM0X5dGWmQHz",
      "include_colab_link": true
    },
    "kernelspec": {
      "name": "python3",
      "display_name": "Python 3"
    },
    "language_info": {
      "name": "python"
    }
  },
  "cells": [
    {
      "cell_type": "markdown",
      "metadata": {
        "id": "view-in-github",
        "colab_type": "text"
      },
      "source": [
        "<a href=\"https://colab.research.google.com/github/GiovannaCabRuiz/Unidad1/blob/main/practicaCuatroA.ipynb\" target=\"_parent\"><img src=\"https://colab.research.google.com/assets/colab-badge.svg\" alt=\"Open In Colab\"/></a>"
      ]
    },
    {
      "cell_type": "code",
      "execution_count": null,
      "metadata": {
        "colab": {
          "base_uri": "https://localhost:8080/"
        },
        "id": "9uAOzIZ_HgLt",
        "outputId": "a2d629e8-9a79-4373-f7b9-204710331f89"
      },
      "outputs": [
        {
          "output_type": "stream",
          "name": "stdout",
          "text": [
            "ingrese la base: 32\n",
            "ingrese la altura: 34\n",
            "Área del triangulo que tiene una base de : 32.0  y con altura:  34.0  su area es:  544.0\n"
          ]
        }
      ],
      "source": [
        "class Triangulo:\n",
        "  \"\"\"\n",
        "  Define un Triangulo según su base y su altura.\n",
        "  \"\"\"\n",
        "  def __init__(self, b, h):\n",
        "    self.b = b\n",
        "    self.h = h\n",
        "  def area(self):\n",
        "    r=(self.b * self.h)/2\n",
        "    return r\n",
        "ba = float(input(\"ingrese la base: \"))\n",
        "ha = float(input(\"ingrese la altura: \"))\n",
        "triangulo = Triangulo(ba, ha)\n",
        "print(\"Área del triangulo que tiene una base de :\",ba,\" y con altura: \",ha,\" su area es: \", triangulo.area())\n"
      ]
    }
  ]
}