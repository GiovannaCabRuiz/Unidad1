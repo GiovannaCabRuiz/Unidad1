{
  "nbformat": 4,
  "nbformat_minor": 0,
  "metadata": {
    "colab": {
      "provenance": [],
      "authorship_tag": "ABX9TyMWSMZgdIrse6ybIusj5vSn",
      "include_colab_link": true
    },
    "kernelspec": {
      "name": "python3",
      "display_name": "Python 3"
    },
    "language_info": {
      "name": "python"
    }
  },
  "cells": [
    {
      "cell_type": "markdown",
      "metadata": {
        "id": "view-in-github",
        "colab_type": "text"
      },
      "source": [
        "<a href=\"https://colab.research.google.com/github/GiovannaCabRuiz/Unidad1/blob/main/Evaluaci%C3%B3n_diagnostica.ipynb\" target=\"_parent\"><img src=\"https://colab.research.google.com/assets/colab-badge.svg\" alt=\"Open In Colab\"/></a>"
      ]
    },
    {
      "cell_type": "markdown",
      "source": [
        "Evaluacion diagnostica\n"
      ],
      "metadata": {
        "id": "IsIUdrDAUmuJ"
      }
    },
    {
      "cell_type": "markdown",
      "source": [
        "Algoritmo:\n",
        "\n",
        "\t1. Inicializar dos variables: mejor_promedio a 0 y peor_promedio a 100 para rastrear los promedios más alto y más bajo.\n",
        "\t2. Inicializar dos variables: mejor_alumno y peor_alumno para almacenar los nombres de los alumnos con mejor y peor promedio.\n",
        "\t3. Pedir al usuario el número de alumnos n.\n",
        "\t4. Para cada alumno, realizar los siguientes pasos:\n",
        "\t5. Pedir el nombre del alumno.\n",
        "\t6. Pedir tres calificaciones de 0 a 100.\n",
        "\t7. Calcular el promedio de las tres calificaciones.\n",
        "\t8. Si el promedio es menor a 70, imprimir \"Reprobado\" junto con el nombre del alumno.\n",
        "\t9. Comparar el promedio con mejor_promedio:\n",
        "\t10. Si el promedio es mayor, actualizar mejor_promedio y almacenar el nombre del alumno en mejor_alumno.\n",
        "\t11. Comparar el promedio con peor_promedio:\n",
        "\t12. Si el promedio es menor, actualizar peor_promedio y almacenar el nombre del alumno en peor_alumno.\n",
        "\t13. Al final del proceso, imprimir el nombre y promedio del alumno con mejor calificación y el alumno con peor calificación.\n"
      ],
      "metadata": {
        "id": "zr6FEKa2ljjb"
      }
    },
    {
      "cell_type": "code",
      "source": [
        "mejor_promedio = 0\n",
        "peor_promedio = 100\n",
        "mejor_alumno = \"\"\n",
        "peor_alumno = \"\"\n",
        "\n",
        "n = int(input(\"Ingrese el número de alumnos: \"))\n",
        "\n",
        "for i in range(n):\n",
        "    nombre = input(f\"Ingrese el nombre del alumno {i+1}: \")\n",
        "\n",
        "    calificacion1 = float(input(\"Ingrese la primera calificación de: \", nombre))\n",
        "    calificacion2 = float(input(\"Ingrese la segunda calificación de: \", nombre))\n",
        "    calificacion3 = float(input(\"Ingrese la tercera calificación de: \", nombre))\n",
        "\n",
        "    promedio = (calificacion1 + calificacion2 + calificacion3) / 3\n",
        "\n",
        "    if promedio < 70:\n",
        "        print(nombre,\" está reprobado con un promedio de \", promedio)\n",
        "    if promedio > mejor_promedio:\n",
        "        mejor_promedio = promedio\n",
        "        mejor_alumno = nombre\n",
        "\n",
        "    if promedio < peor_promedio:\n",
        "        peor_promedio = promedio\n",
        "        peor_alumno = nombre\n",
        "\n",
        "print(\"\\nEl alumno con mejor calificación es: \" ,mejor_alumno, \"con un promedio de: \", mejor_promedio)\n",
        "print(\"El alumno con peor calificación es: \", peor_alumno, \"con un promedio de: \", peor_promedio)\n"
      ],
      "metadata": {
        "id": "bFWuE2ZwmSuf"
      },
      "execution_count": null,
      "outputs": []
    }
  ]
}