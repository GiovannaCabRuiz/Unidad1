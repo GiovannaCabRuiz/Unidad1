{
  "nbformat": 4,
  "nbformat_minor": 0,
  "metadata": {
    "colab": {
      "provenance": [],
      "authorship_tag": "ABX9TyNut36+qpptKnN7iy0z729z",
      "include_colab_link": true
    },
    "kernelspec": {
      "name": "python3",
      "display_name": "Python 3"
    },
    "language_info": {
      "name": "python"
    }
  },
  "cells": [
    {
      "cell_type": "markdown",
      "metadata": {
        "id": "view-in-github",
        "colab_type": "text"
      },
      "source": [
        "<a href=\"https://colab.research.google.com/github/GiovannaCabRuiz/Unidad1/blob/main/tareaUno1.ipynb\" target=\"_parent\"><img src=\"https://colab.research.google.com/assets/colab-badge.svg\" alt=\"Open In Colab\"/></a>"
      ]
    },
    {
      "cell_type": "markdown",
      "source": [
        "Se inicia una clase"
      ],
      "metadata": {
        "id": "Gy2GbnledstB"
      }
    },
    {
      "cell_type": "code",
      "execution_count": 23,
      "metadata": {
        "colab": {
          "base_uri": "https://localhost:8080/"
        },
        "id": "E4uKZkLfdbvI",
        "outputId": "18356915-f8fc-44f6-a9a7-387bc33eaafb"
      },
      "outputs": [
        {
          "output_type": "stream",
          "name": "stdout",
          "text": [
            "Ingrese su nombre: giovanna\n",
            "Hola  giovanna ! \n"
          ]
        }
      ],
      "source": [
        "class Persona:\n",
        "  def __init__(self):\n",
        "    self.nombre = input(\"Ingrese su nombre: \")\n",
        "\n",
        "  def saludar(self):\n",
        "    print(\"Hola \",self.nombre, \"! \")\n",
        "\n",
        "mi_persona = Persona()\n",
        "\n",
        "mi_persona.saludar()\n",
        "\n",
        "\n",
        "\n",
        "\n"
      ]
    }
  ]
}