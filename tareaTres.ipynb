{
  "nbformat": 4,
  "nbformat_minor": 0,
  "metadata": {
    "colab": {
      "provenance": [],
      "authorship_tag": "ABX9TyOowpTrA5rYd73EKQiaxrBN",
      "include_colab_link": true
    },
    "kernelspec": {
      "name": "python3",
      "display_name": "Python 3"
    },
    "language_info": {
      "name": "python"
    }
  },
  "cells": [
    {
      "cell_type": "markdown",
      "metadata": {
        "id": "view-in-github",
        "colab_type": "text"
      },
      "source": [
        "<a href=\"https://colab.research.google.com/github/GiovannaCabRuiz/Unidad1/blob/main/tareaTres.ipynb\" target=\"_parent\"><img src=\"https://colab.research.google.com/assets/colab-badge.svg\" alt=\"Open In Colab\"/></a>"
      ]
    },
    {
      "cell_type": "markdown",
      "source": [
        "Tarea: si el alumno tiene una unidad reprobada, el alumno reprueba"
      ],
      "metadata": {
        "id": "IBDnJlrie8Df"
      }
    },
    {
      "cell_type": "code",
      "execution_count": null,
      "metadata": {
        "colab": {
          "base_uri": "https://localhost:8080/"
        },
        "id": "CyML_3CWeoLh",
        "outputId": "76d48b58-5fee-457a-d338-97fbedf66ee4"
      },
      "outputs": [
        {
          "output_type": "stream",
          "name": "stdout",
          "text": [
            "Ingrese nombre: gio\n",
            "Ingrese c1: 70\n",
            "Ingrese c2: 80\n",
            "Ingrese c3: 90\n",
            "gio  con calificaciones:  70.0  ,  80.0  ,  90.0  su promedio es:  80.0  esta:  aprobado\n",
            " El estudiante esta aprobado \n"
          ]
        }
      ],
      "source": [
        "class Promedios():\n",
        "  def __init__(self):\n",
        "    self.c1 = 0\n",
        "    self.c2 = 0\n",
        "    self.c3 = 0\n",
        "    self.n = \"\"\n",
        "    self.aprobado = False\n",
        "\n",
        "  def prom(self):\n",
        "    r = (self.c1+self.c2+self.c3)/3\n",
        "    return r\n",
        "\n",
        "  def comparacion(self, num):\n",
        "    if num >= 70:\n",
        "      self.aprobado = True\n",
        "      return \"aprobado\"\n",
        "    else:\n",
        "      self.aprobado = False\n",
        "      return \"reprobado\"\n",
        "\n",
        "cal = Promedios()\n",
        "cal.n = input(\"Ingrese nombre: \")\n",
        "cal.c1 = float(input(\"Ingrese c1: \"))\n",
        "cal.c2 = float(input(\"Ingrese c2: \"))\n",
        "cal.c3 = float(input(\"Ingrese c3: \"))\n",
        "#cal.comparacion(cal.prom())\n",
        "p = cal.prom()\n",
        "c = cal.comparacion(p)\n",
        "print (cal.n,\" con calificaciones: \",cal.c1,\" , \",cal.c2,\" , \",cal.c3,\" su promedio es: \",p, \" esta: \",c)\n",
        "\n",
        "if cal. aprobado:\n",
        "  print(\" El estudiante esta aprobado \")\n",
        "else:\n",
        "  print(\" El estudiante esta reprobado \")\n",
        "\n",
        "\n"
      ]
    }
  ]
}