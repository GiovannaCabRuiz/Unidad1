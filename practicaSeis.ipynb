{
  "nbformat": 4,
  "nbformat_minor": 0,
  "metadata": {
    "colab": {
      "provenance": [],
      "authorship_tag": "ABX9TyOVxRFYVXRTGsXnURjqw324",
      "include_colab_link": true
    },
    "kernelspec": {
      "name": "python3",
      "display_name": "Python 3"
    },
    "language_info": {
      "name": "python"
    }
  },
  "cells": [
    {
      "cell_type": "markdown",
      "metadata": {
        "id": "view-in-github",
        "colab_type": "text"
      },
      "source": [
        "<a href=\"https://colab.research.google.com/github/GiovannaCabRuiz/Unidad1/blob/main/practicaSeis.ipynb\" target=\"_parent\"><img src=\"https://colab.research.google.com/assets/colab-badge.svg\" alt=\"Open In Colab\"/></a>"
      ]
    },
    {
      "cell_type": "markdown",
      "source": [
        "Se piden 3 calificaciones asi como el nombre del alumno\n",
        "Se promedian las calificaciones\n",
        "Si el promedio es mayor que 70, se escribe aprobado\n",
        "si el promedio es menor que 70, se escribe reprobado\n"
      ],
      "metadata": {
        "id": "eYpcKnFec9xP"
      }
    },
    {
      "cell_type": "code",
      "execution_count": null,
      "metadata": {
        "id": "ddtW8e47c896"
      },
      "outputs": [],
      "source": [
        "class Alumno:\n",
        "  def __init__(self, nombre, c1, c2,c3):\n",
        "    self.nombre = nombre\n",
        "    self.c1 = c1\n",
        "    self.c2 = c2\n",
        "    self.c3 = c3\n",
        "\n",
        "  def pDatos():\n",
        "    nombre = input(\"Ingrese el nombre: \")\n",
        "    c1 = int(input(\"ingrese c1: \"))\n",
        "    c2 = int(input(\"ingrese c2: \"))\n",
        "    c3 = int(input(\"ingrese c3: \"))\n",
        "\n",
        "  def promedio():\n",
        "    r = (self.c1+self.c2+self.c3) / 3\n",
        "    return r\n",
        "\n",
        "  def comparar(promedio):\n",
        "    if promedio >= 70:\n",
        "      print(\"El alumno: \",nombre, \"esta aprobado con el promedio de: \", promedio())\n",
        "    else:\n",
        "      print(\"El alumno: \",nombre, \"esta reprobado con el promedio de: \", promedio())\n",
        "\n",
        "\n",
        "\n"
      ]
    }
  ]
}