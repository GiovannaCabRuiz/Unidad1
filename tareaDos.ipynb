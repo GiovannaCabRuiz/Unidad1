{
  "nbformat": 4,
  "nbformat_minor": 0,
  "metadata": {
    "colab": {
      "provenance": [],
      "authorship_tag": "ABX9TyNSBbFaFpX4ECqjqeDmdPkP",
      "include_colab_link": true
    },
    "kernelspec": {
      "name": "python3",
      "display_name": "Python 3"
    },
    "language_info": {
      "name": "python"
    }
  },
  "cells": [
    {
      "cell_type": "markdown",
      "metadata": {
        "id": "view-in-github",
        "colab_type": "text"
      },
      "source": [
        "<a href=\"https://colab.research.google.com/github/GiovannaCabRuiz/Unidad1/blob/main/tareaDos.ipynb\" target=\"_parent\"><img src=\"https://colab.research.google.com/assets/colab-badge.svg\" alt=\"Open In Colab\"/></a>"
      ]
    },
    {
      "cell_type": "markdown",
      "source": [
        "Tarea: se agrega un menu para seleccionar si se pide triangulo o rectangulo."
      ],
      "metadata": {
        "id": "LhVUFyMo0M8d"
      }
    },
    {
      "cell_type": "code",
      "execution_count": 4,
      "metadata": {
        "colab": {
          "base_uri": "https://localhost:8080/"
        },
        "id": "kyRQFdEW0JlW",
        "outputId": "ef68a850-4eaf-4bef-9137-6b022c347347"
      },
      "outputs": [
        {
          "output_type": "stream",
          "name": "stdout",
          "text": [
            "Elija una opcion: \n",
            "1. Calcular el area de un rectangulo \n",
            "2. Calcular el area de un triangulo \n",
            "3. salir \n",
            " Ingrese la opcion: 1\n",
            "ingrese la base para el rectangulo: 32\n",
            "ingrese la altura para el rectangulo: 43.8\n",
            "Área del rectángulo: 1401.6\n",
            "Elija una opcion: \n",
            "1. Calcular el area de un rectangulo \n",
            "2. Calcular el area de un triangulo \n",
            "3. salir \n",
            " Ingrese la opcion: 2\n",
            "ingrese la base para el triangulo: 54.4\n",
            "ingrese la altura para el triangulo: 43.4\n",
            "Área del triángulo: 1180.48\n",
            "Elija una opcion: \n",
            "1. Calcular el area de un rectangulo \n",
            "2. Calcular el area de un triangulo \n",
            "3. salir \n",
            " Ingrese la opcion: 3\n",
            "Adios\n"
          ]
        }
      ],
      "source": [
        "class Poligono:\n",
        "  def __init__(self, b, h):\n",
        "    self.b = b\n",
        "    self.h = h\n",
        "class Rectangulo(Poligono):\n",
        "  def area(self):\n",
        "    return self.b * self.h\n",
        "class Triangulo(Poligono):\n",
        "  def area(self):\n",
        "    return (self.b * self.h) / 2\n",
        "\n",
        "while True:\n",
        "  print(\"Elija una opcion: \")\n",
        "  print(\"1. Calcular el area de un rectangulo \")\n",
        "  print(\"2. Calcular el area de un triangulo \")\n",
        "  print(\"3. salir \")\n",
        "\n",
        "  opciones = input(\" Ingrese la opcion: \")\n",
        "\n",
        "  if opciones == '1':\n",
        "    ba = float(input(\"ingrese la base para el rectangulo: \"))\n",
        "    ha = float(input(\"ingrese la altura para el rectangulo: \"))\n",
        "    rectangulo = Rectangulo(ba, ha)\n",
        "    print(\"Área del rectángulo:\", rectangulo.area())\n",
        "  elif opciones == '2':\n",
        "    ba = float(input(\"ingrese la base para el triangulo: \"))\n",
        "    ha = float(input(\"ingrese la altura para el triangulo: \"))\n",
        "    triangulo = Triangulo(ba, ha)\n",
        "    print(\"Área del triángulo:\", triangulo.area())\n",
        "  elif opciones == '3':\n",
        "    print(\"Adios\")\n",
        "    break\n",
        "  else:\n",
        "    print(\" opcion no valida, elija una de las opciones mostradas. \")\n",
        "\n",
        "\n",
        ""
      ]
    }
  ]
}