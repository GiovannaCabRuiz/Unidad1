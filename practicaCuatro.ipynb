{
  "nbformat": 4,
  "nbformat_minor": 0,
  "metadata": {
    "colab": {
      "provenance": [],
      "authorship_tag": "ABX9TyOfgzDqyeUEssiWGR0lM76w",
      "include_colab_link": true
    },
    "kernelspec": {
      "name": "python3",
      "display_name": "Python 3"
    },
    "language_info": {
      "name": "python"
    }
  },
  "cells": [
    {
      "cell_type": "markdown",
      "metadata": {
        "id": "view-in-github",
        "colab_type": "text"
      },
      "source": [
        "<a href=\"https://colab.research.google.com/github/GiovannaCabRuiz/Unidad1/blob/main/practicaCuatro.ipynb\" target=\"_parent\"><img src=\"https://colab.research.google.com/assets/colab-badge.svg\" alt=\"Open In Colab\"/></a>"
      ]
    },
    {
      "cell_type": "code",
      "execution_count": null,
      "metadata": {
        "colab": {
          "base_uri": "https://localhost:8080/"
        },
        "id": "074JKJB5C9kx",
        "outputId": "03f8bae1-fc02-41a1-b86c-aa8c63fcf94b"
      },
      "outputs": [
        {
          "output_type": "stream",
          "name": "stdout",
          "text": [
            "ingrese la base: 12.5\n",
            "ingrese la altura: 22.3\n",
            "Área del rectánguloque tiene una base de : 12.5  y con altura:  22.3  su area es:  278.75\n"
          ]
        }
      ],
      "source": [
        "class Rectangulo:\n",
        "  \"\"\"\n",
        "  Define un rectángulo según su base y su altura.\n",
        "  \"\"\"\n",
        "  def __init__(self, b, h):\n",
        "    self.b = b\n",
        "    self.h = h\n",
        "  def area(self):\n",
        "    return self.b * self.h\n",
        "ba = float(input(\"ingrese la base: \"))\n",
        "ha = float(input(\"ingrese la altura: \"))\n",
        "rectangulo = Rectangulo(ba, ha)\n",
        "print(\"Área del rectánguloque tiene una base de :\",ba,\" y con altura: \",ha,\" su area es: \", rectangulo.area())\n",
        "\n"
      ]
    }
  ]
}