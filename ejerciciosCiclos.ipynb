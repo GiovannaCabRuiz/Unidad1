{
  "nbformat": 4,
  "nbformat_minor": 0,
  "metadata": {
    "colab": {
      "provenance": [],
      "authorship_tag": "ABX9TyO4Kz19W3gy417BkEEWQB+w",
      "include_colab_link": true
    },
    "kernelspec": {
      "name": "python3",
      "display_name": "Python 3"
    },
    "language_info": {
      "name": "python"
    }
  },
  "cells": [
    {
      "cell_type": "markdown",
      "metadata": {
        "id": "view-in-github",
        "colab_type": "text"
      },
      "source": [
        "<a href=\"https://colab.research.google.com/github/GiovannaCabRuiz/Unidad1/blob/main/ejerciciosCiclos.ipynb\" target=\"_parent\"><img src=\"https://colab.research.google.com/assets/colab-badge.svg\" alt=\"Open In Colab\"/></a>"
      ]
    },
    {
      "cell_type": "markdown",
      "source": [
        "pedimos un numero y se hace la tabla de multiplicar de ese numero con ciclo for\n",
        "\n"
      ],
      "metadata": {
        "id": "GMPbNCbdm2-F"
      }
    },
    {
      "cell_type": "code",
      "execution_count": 5,
      "metadata": {
        "colab": {
          "base_uri": "https://localhost:8080/"
        },
        "id": "jq7qdRQmkHgm",
        "outputId": "d91c8143-9d52-4f49-a76d-68da6e6c2855"
      },
      "outputs": [
        {
          "output_type": "stream",
          "name": "stdout",
          "text": [
            "introduce un numero: 3\n",
            "tabla de multiplicar del 3\n",
            "3  x  1  =  3\n",
            "3  x  2  =  6\n",
            "3  x  3  =  9\n",
            "3  x  4  =  12\n",
            "3  x  5  =  15\n",
            "3  x  6  =  18\n",
            "3  x  7  =  21\n",
            "3  x  8  =  24\n",
            "3  x  9  =  27\n",
            "3  x  10  =  30\n"
          ]
        }
      ],
      "source": [
        "class TablaMultiplicar:\n",
        "  def __init__(self, numero):\n",
        "    self.numero = numero\n",
        "\n",
        "  def generar(self):\n",
        "    print(\"tabla de multiplicar del\", self.numero)\n",
        "    for i in range(1, 11):\n",
        "      resultado = self.numero * i\n",
        "      print(self.numero, \" x \", i, \" = \", resultado)\n",
        "\n",
        "numero = int(input(\"introduce un numero: \"))\n",
        "\n",
        "tabla = TablaMultiplicar(numero)\n",
        "tabla.generar()\n"
      ]
    },
    {
      "cell_type": "markdown",
      "source": [
        "2. hacer un menu con 5 opiones, el ultimo es salir"
      ],
      "metadata": {
        "id": "IyGgQKUHm_1k"
      }
    },
    {
      "cell_type": "code",
      "source": [
        "class Menu:\n",
        "  def __init__(self):\n",
        "    self.opcion = 0\n",
        "\n",
        "  def mostrarMenu(self):\n",
        "    print(\" Menu de opciones: \")\n",
        "    print(\"1. Opcion 1\")\n",
        "    print(\"2. Opcion 2\")\n",
        "    print(\"3. Opcion 3\")\n",
        "    print(\"4. Opcion 4\")\n",
        "    print(\"5. Salir\")\n",
        "\n",
        "  def ejecutar(self):\n",
        "    while self.opcion != 5:\n",
        "      self.mostrarMenu()\n",
        "      self.opcion = int(input(\" Elige una de las opciones: \"))\n",
        "\n",
        "      if self.opcion == 1:\n",
        "        print(\"Has elegido la opcion 1\")\n",
        "      elif self.opcion == 2:\n",
        "        print(\"Has elegido la opcion 2\")\n",
        "      elif self.opcion == 3:\n",
        "        print(\"Has elegido la opcion 3\")\n",
        "      elif self.opcion == 4:\n",
        "        print(\"Has elegido la opcion 4\")\n",
        "      elif self.opcion == 5:\n",
        "        print (\"Saliendo del programa...\")\n",
        "      else:\n",
        "        print(\"Opcion no valida, escoge una de las opciones...\")\n",
        "\n",
        "menu = Menu()\n",
        "menu.ejecutar()\n"
      ],
      "metadata": {
        "colab": {
          "base_uri": "https://localhost:8080/"
        },
        "id": "Bhv0ohj_nOIo",
        "outputId": "96659096-0b05-4de2-839b-1f8d41dc0a3a"
      },
      "execution_count": 8,
      "outputs": [
        {
          "output_type": "stream",
          "name": "stdout",
          "text": [
            " Menu de opciones: \n",
            "1. Opcion 1\n",
            "2. Opcion 2\n",
            "3. Opcion 3\n",
            "4. Opcion 4\n",
            "5. Salir\n",
            " Elige una de las opciones: 2\n",
            "Has elegido la opcion 2\n",
            " Menu de opciones: \n",
            "1. Opcion 1\n",
            "2. Opcion 2\n",
            "3. Opcion 3\n",
            "4. Opcion 4\n",
            "5. Salir\n",
            " Elige una de las opciones: 5\n",
            "Saliendo del programa...\n"
          ]
        }
      ]
    },
    {
      "cell_type": "markdown",
      "source": [
        "3. pide tu nombre con ciclo while"
      ],
      "metadata": {
        "id": "UmoCyQx0nPNt"
      }
    },
    {
      "cell_type": "code",
      "source": [
        "class Saludo:\n",
        "  def __init__(self):\n",
        "    self.nombre = \"\"\n",
        "\n",
        "  def solicitar(self):\n",
        "    while not self.nombre:\n",
        "      self.nombre = input(\"por favor introduce tu nombre: \")\n",
        "\n",
        "  def mostrarSaludo(self):\n",
        "    print(\"Hola\", self.nombre,\"Gracias por poner tu nombre\")\n",
        "\n",
        "saludo = Saludo()\n",
        "\n",
        "saludo.solicitar()\n",
        "saludo.mostrarSaludo()\n",
        "\n"
      ],
      "metadata": {
        "colab": {
          "base_uri": "https://localhost:8080/"
        },
        "id": "Sfs5rrsGntnL",
        "outputId": "543f8f8c-0fbb-4a5a-961a-44bf6750d8fe"
      },
      "execution_count": 11,
      "outputs": [
        {
          "output_type": "stream",
          "name": "stdout",
          "text": [
            "por favor introduce tu nombre: giovanna\n",
            "Hola giovanna Gracias por poner tu nombre\n"
          ]
        }
      ]
    }
  ]
}