{
  "nbformat": 4,
  "nbformat_minor": 0,
  "metadata": {
    "colab": {
      "provenance": [],
      "authorship_tag": "ABX9TyMECjghC7pw1vH0dt+RdQiB",
      "include_colab_link": true
    },
    "kernelspec": {
      "name": "python3",
      "display_name": "Python 3"
    },
    "language_info": {
      "name": "python"
    }
  },
  "cells": [
    {
      "cell_type": "markdown",
      "metadata": {
        "id": "view-in-github",
        "colab_type": "text"
      },
      "source": [
        "<a href=\"https://colab.research.google.com/github/GiovannaCabRuiz/Unidad1/blob/main/practicaTres.ipynb\" target=\"_parent\"><img src=\"https://colab.research.google.com/assets/colab-badge.svg\" alt=\"Open In Colab\"/></a>"
      ]
    },
    {
      "cell_type": "code",
      "execution_count": null,
      "metadata": {
        "id": "DAimkqHVAGmG",
        "colab": {
          "base_uri": "https://localhost:8080/"
        },
        "outputId": "d1f15a27-33fe-416d-a60d-55fa2394c894"
      },
      "outputs": [
        {
          "output_type": "stream",
          "name": "stdout",
          "text": [
            "ingrese su nombre: giovanna\n",
            "¡Hola, giovanna!\n"
          ]
        }
      ],
      "source": [
        "class Alumno:\n",
        "  def __init__(self,nombre):\n",
        "    self.nom = nombre\n",
        "  def saludar(self):\n",
        "    \"\"\"Imprime un saludo en pantalla.\"\"\"\n",
        "    print(f\"¡Hola, {self.nom}!\")\n",
        "n = input (\"ingrese su nombre: \")\n",
        "x = Alumno(n)\n",
        "x.saludar()\n"
      ]
    }
  ]
}